{
 "cells": [
  {
   "cell_type": "code",
   "execution_count": 1,
   "metadata": {},
   "outputs": [
    {
     "name": "stderr",
     "output_type": "stream",
     "text": [
      "C:\\Users\\Natthawat\\Anaconda3\\lib\\site-packages\\h5py\\__init__.py:36: FutureWarning: Conversion of the second argument of issubdtype from `float` to `np.floating` is deprecated. In future, it will be treated as `np.float64 == np.dtype(float).type`.\n",
      "  from ._conv import register_converters as _register_converters\n",
      "Using TensorFlow backend.\n"
     ]
    }
   ],
   "source": [
    "from tqdm import tqdm_notebook as tqdm\n",
    "import numpy as np\n",
    "import random as rand\n",
    "import pandas as pd\n",
    "import cv2\n",
    "import os\n",
    "\n",
    "import matplotlib.pyplot as plt\n",
    "import pylab as labplt\n",
    "plt.style.use('seaborn-white')\n",
    "import seaborn as sns\n",
    "sns.set_style(\"white\")\n",
    "\n",
    "from keras.preprocessing.image import load_img"
   ]
  },
  {
   "cell_type": "markdown",
   "metadata": {},
   "source": [
    "# Define params and helpers"
   ]
  },
  {
   "cell_type": "code",
   "execution_count": 2,
   "metadata": {},
   "outputs": [],
   "source": [
    "img_size_ori = 101\n",
    "img_num = 4000\n",
    "augment_ratio = 1 # The images will expand images*augment_ratio\n",
    "\n",
    "base_weight = 0.85\n",
    "illusion_weight = 0.15\n",
    "\n",
    "imgs_aug_path = './data/aug-1/images/'\n",
    "masks_aug_path = './data/aug-1/masks/'"
   ]
  },
  {
   "cell_type": "code",
   "execution_count": 3,
   "metadata": {},
   "outputs": [],
   "source": [
    "# load train set infomation\n",
    "train_df = pd.read_csv(\"./data/train.csv\", index_col=\"id\", usecols=[0])\n",
    "depths_df = pd.read_csv(\"./data/depths.csv\", index_col=\"id\")\n",
    "train_df = train_df.join(depths_df)"
   ]
  },
  {
   "cell_type": "code",
   "execution_count": 4,
   "metadata": {},
   "outputs": [
    {
     "data": {
      "application/vnd.jupyter.widget-view+json": {
       "model_id": "62f09e3895a3495cb216042ec61d0789",
       "version_major": 2,
       "version_minor": 0
      },
      "text/plain": [
       "HBox(children=(IntProgress(value=0, max=4000), HTML(value='')))"
      ]
     },
     "metadata": {},
     "output_type": "display_data"
    },
    {
     "name": "stdout",
     "output_type": "stream",
     "text": [
      "\n"
     ]
    }
   ],
   "source": [
    "# load train images\n",
    "train_df[\"images\"] = [np.array(load_img(\"./data/train/images/{}.png\".format(idx), color_mode='grayscale')) for idx in tqdm(train_df.index)]"
   ]
  },
  {
   "cell_type": "markdown",
   "metadata": {},
   "source": [
    "# Load train masks"
   ]
  },
  {
   "cell_type": "code",
   "execution_count": 5,
   "metadata": {},
   "outputs": [
    {
     "data": {
      "application/vnd.jupyter.widget-view+json": {
       "model_id": "36d6825b79c34a5cad295a1f078ac0ea",
       "version_major": 2,
       "version_minor": 0
      },
      "text/plain": [
       "HBox(children=(IntProgress(value=0, max=4000), HTML(value='')))"
      ]
     },
     "metadata": {},
     "output_type": "display_data"
    },
    {
     "name": "stdout",
     "output_type": "stream",
     "text": [
      "\n"
     ]
    }
   ],
   "source": [
    "train_df[\"masks\"] = [np.array(load_img(\"./data/train/masks/{}.png\".format(idx), color_mode='grayscale')) / 255 for idx in tqdm(train_df.index)]"
   ]
  },
  {
   "cell_type": "markdown",
   "metadata": {},
   "source": [
    "# Calculate Coverage"
   ]
  },
  {
   "cell_type": "code",
   "execution_count": 6,
   "metadata": {},
   "outputs": [],
   "source": [
    "train_df[\"coverage\"] = train_df.masks.map(np.sum) / pow(img_size_ori, 2)"
   ]
  },
  {
   "cell_type": "code",
   "execution_count": 7,
   "metadata": {},
   "outputs": [],
   "source": [
    "def cov_to_class(val):    \n",
    "    for i in range(0, 11):\n",
    "        if val * 10 <= i :\n",
    "            return i\n",
    "        \n",
    "train_df[\"coverage_class\"] = train_df.coverage.map(cov_to_class)"
   ]
  },
  {
   "cell_type": "code",
   "execution_count": 8,
   "metadata": {},
   "outputs": [
    {
     "name": "stderr",
     "output_type": "stream",
     "text": [
      "C:\\Users\\Natthawat\\Anaconda3\\lib\\site-packages\\matplotlib\\axes\\_axes.py:6462: UserWarning: The 'normed' kwarg is deprecated, and has been replaced by the 'density' kwarg.\n",
      "  warnings.warn(\"The 'normed' kwarg is deprecated, and has been \"\n",
      "C:\\Users\\Natthawat\\Anaconda3\\lib\\site-packages\\matplotlib\\axes\\_axes.py:6462: UserWarning: The 'normed' kwarg is deprecated, and has been replaced by the 'density' kwarg.\n",
      "  warnings.warn(\"The 'normed' kwarg is deprecated, and has been \"\n"
     ]
    },
    {
     "data": {
      "text/plain": [
       "Text(0.5,0,'Coverage class')"
      ]
     },
     "execution_count": 8,
     "metadata": {},
     "output_type": "execute_result"
    },
    {
     "data": {
      "image/png": "[encoded data removed]",
      "text/plain": [
       "<Figure size 1080x360 with 2 Axes>"
      ]
     },
     "metadata": {},
     "output_type": "display_data"
    }
   ],
   "source": [
    "fig, axs = plt.subplots(1, 2, figsize=(15,5))\n",
    "sns.distplot(train_df.coverage, kde=False, ax=axs[0])\n",
    "sns.distplot(train_df.coverage_class, bins=10, kde=False, ax=axs[1])\n",
    "plt.suptitle(\"Salt coverage\")\n",
    "axs[0].set_xlabel(\"Coverage\")\n",
    "axs[1].set_xlabel(\"Coverage class\")"
   ]
  },
  {
   "cell_type": "markdown",
   "metadata": {},
   "source": [
    "# Create roulette wheel for random imbalanced images"
   ]
  },
  {
   "cell_type": "code",
   "execution_count": 9,
   "metadata": {},
   "outputs": [],
   "source": [
    "roulette_wheel = np.array((0))\n",
    "slot_count = 0\n",
    " \n",
    "def init_roul_wheel(value_array):\n",
    " \n",
    "    slot_count = 0\n",
    "    i=0\n",
    "    arrsize = value_array.size\n",
    "    while i < arrsize/2:\n",
    "        slot_count = slot_count + value_array[2*i+1]\n",
    "        i = i + 1\n",
    "    roulette_wheel = np.zeros((slot_count),dtype=np.int)\n",
    "    #print(roulette_wheel)\n",
    "    i = 0\n",
    " \n",
    "    while i < arrsize/2:\n",
    "        rv = value_array[2*i]\n",
    "        bv = value_array[2*i+1]\n",
    "        j = 0\n",
    "        while j<bv:\n",
    "            t = rand.randint(0,slot_count-1)\n",
    "            wheel_alloc = roulette_wheel[t]\n",
    "            if wheel_alloc == 0:\n",
    "                roulette_wheel[t] = rv\n",
    "                j = j + 1\n",
    "        i = i + 1\n",
    "    return (roulette_wheel)\n",
    " \n",
    "def spin(rw):\n",
    "    slot_count = rw.size\n",
    "    randno = rand.randint(0,10000)\n",
    "    rot_degree = randno%360\n",
    "    rot_unit = 360/slot_count\n",
    "    rol_no = (rot_degree - (rot_degree%(rot_unit)))/rot_unit\n",
    "    rol_value = rw[int(rol_no)]\n",
    "    return rol_value    "
   ]
  },
  {
   "cell_type": "code",
   "execution_count": 10,
   "metadata": {},
   "outputs": [],
   "source": [
    "coverage_wheel = []\n",
    "for i in range(10):\n",
    "    coverage_wheel.append(i)\n",
    "    coverage_wheel.append(img_num // len(train_df[train_df['coverage_class'] == i]))"
   ]
  },
  {
   "cell_type": "code",
   "execution_count": 11,
   "metadata": {},
   "outputs": [],
   "source": [
    "wheel_vector = np.array(coverage_wheel)\n",
    "x = init_roul_wheel(wheel_vector)"
   ]
  },
  {
   "cell_type": "code",
   "execution_count": 12,
   "metadata": {},
   "outputs": [],
   "source": [
    "cal_rounds = img_num * augment_ratio"
   ]
  },
  {
   "cell_type": "code",
   "execution_count": 13,
   "metadata": {},
   "outputs": [],
   "source": [
    "results = np.zeros((cal_rounds),dtype=np.int)\n",
    "imgs_aug = []\n",
    "masks_aug = []\n",
    "for i in range(cal_rounds):\n",
    "    value = spin(x)\n",
    "    base_df = train_df[train_df['coverage_class'] == value].iloc[[rand.randint(0, len(train_df[train_df['coverage_class'] == value]) - 1)]]\n",
    "    ill_df = train_df.iloc[[rand.randint(0, img_num) - 1]]\n",
    "    imgs_aug.append(np.abs(np.subtract(base_df['images'].values * base_weight, ill_df['images'].values * illusion_weight)))\n",
    "    masks_aug.append(base_df['masks'])\n",
    "    results[i] = value"
   ]
  },
  {
   "cell_type": "code",
   "execution_count": 14,
   "metadata": {},
   "outputs": [
    {
     "name": "stdout",
     "output_type": "stream",
     "text": [
      "coverage_class:  0  precentage -  1.25 % (1.0)\n",
      "coverage_class:  1  precentage -  3.125 % (3.0)\n",
      "coverage_class:  2  precentage -  8.05 % (8.0)\n",
      "coverage_class:  3  precentage -  9.475 % (9.0)\n",
      "coverage_class:  4  precentage -  12.65 % (13.0)\n",
      "coverage_class:  5  precentage -  8.675 % (9.0)\n",
      "coverage_class:  6  precentage -  10.9 % (11.0)\n",
      "coverage_class:  7  precentage -  14.3 % (14.0)\n",
      "coverage_class:  8  precentage -  16.925 % (17.0)\n",
      "coverage_class:  9  precentage -  14.65 % (15.0)\n"
     ]
    }
   ],
   "source": [
    "# Show random coverage class ratio\n",
    "unique, counts = np.unique(results, return_counts=True)\n",
    "for i in range(10):\n",
    "    #print (unique[i], \"occured \" + str(counts[i]))\n",
    "    precentage = (counts[i]*100)/np.sum(counts)\n",
    "    print ('coverage_class: ', unique[i],\" precentage - \",str(precentage) + ' %','('+str(round(precentage))+')')"
   ]
  },
  {
   "cell_type": "code",
   "execution_count": 15,
   "metadata": {},
   "outputs": [
    {
     "data": {
      "image/png": "[encoded data removed]",
      "text/plain": [
       "<Figure size 432x288 with 1 Axes>"
      ]
     },
     "metadata": {},
     "output_type": "display_data"
    }
   ],
   "source": [
    "imgplot = plt.imshow(imgs_aug[500][0], cmap='gray')"
   ]
  },
  {
   "cell_type": "code",
   "execution_count": 16,
   "metadata": {},
   "outputs": [
    {
     "data": {
      "image/png": "[encoded data removed]",
      "text/plain": [
       "<Figure size 432x288 with 1 Axes>"
      ]
     },
     "metadata": {},
     "output_type": "display_data"
    }
   ],
   "source": [
    "imgplot = plt.imshow(masks_aug[3999][0], cmap='gray')"
   ]
  },
  {
   "cell_type": "markdown",
   "metadata": {},
   "source": [
    "# Save images"
   ]
  },
  {
   "cell_type": "code",
   "execution_count": 17,
   "metadata": {},
   "outputs": [],
   "source": [
    "for i in range(cal_rounds):\n",
    "    cv2.imwrite(imgs_aug_path + str(i) + '.jpg', imgs_aug[i][0])"
   ]
  },
  {
   "cell_type": "code",
   "execution_count": null,
   "metadata": {},
   "outputs": [],
   "source": [
    "for i in range(cal_rounds):\n",
    "    mask_img = masks_aug[i][0] * 255\n",
    "    cv2.imwrite(masks_aug_path + str(i) + '.jpg', mask_img)"
   ]
  },
  {
   "cell_type": "code",
   "execution_count": null,
   "metadata": {},
   "outputs": [],
   "source": []
  },
  {
   "cell_type": "code",
   "execution_count": null,
   "metadata": {},
   "outputs": [],
   "source": []
  },
  {
   "cell_type": "code",
   "execution_count": null,
   "metadata": {},
   "outputs": [],
   "source": []
  }
 ],
 "metadata": {
  "kernelspec": {
   "display_name": "Python 3",
   "language": "python",
   "name": "python3"
  },
  "language_info": {
   "codemirror_mode": {
    "name": "ipython",
    "version": 3
   },
   "file_extension": ".py",
   "mimetype": "text/x-python",
   "name": "python",
   "nbconvert_exporter": "python",
   "pygments_lexer": "ipython3",
   "version": "3.6.5"
  }
 },
 "nbformat": 4,
 "nbformat_minor": 2
}
