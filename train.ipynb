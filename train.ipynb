{
 "cells": [
  {
   "cell_type": "code",
   "execution_count": 59,
   "metadata": {},
   "outputs": [],
   "source": [
    "import tensorflow\n",
    "from tensorflow import keras\n",
    "from keras.preprocessing.image import load_img\n",
    "from keras.applications.resnet50 import ResNet50\n",
    "from keras.models import Model\n",
    "from keras.layers import Dense\n",
    "from keras.optimizers import Adam\n",
    "from keras.callbacks import ModelCheckpoint\n",
    "\n",
    "from tqdm import tqdm_notebook as tqdm\n",
    "import os\n",
    "import numpy as np\n",
    "\n",
    "import matplotlib.pyplot as plt\n",
    "plt.style.use('seaborn-white')\n",
    "import seaborn as sns\n",
    "sns.set_style(\"white\")"
   ]
  },
  {
   "cell_type": "markdown",
   "metadata": {},
   "source": [
    "# Define params and helper"
   ]
  },
  {
   "cell_type": "code",
   "execution_count": 45,
   "metadata": {},
   "outputs": [],
   "source": [
    "vanila_data_path = './data/train/'\n",
    "aug_data_path = './data/aug/'\n",
    "test_data_path = './data/test/'\n",
    "aug_list = ['blur', 'rotation', 'mixup']\n",
    "num_classes = 12"
   ]
  },
  {
   "cell_type": "markdown",
   "metadata": {},
   "source": [
    "# Load data"
   ]
  },
  {
   "cell_type": "markdown",
   "metadata": {},
   "source": [
    "## Vanila dataset"
   ]
  },
  {
   "cell_type": "code",
   "execution_count": 51,
   "metadata": {},
   "outputs": [
    {
     "data": {
      "application/vnd.jupyter.widget-view+json": {
       "model_id": "3f0c07ebb54b40288336ad3fde3638cd",
       "version_major": 2,
       "version_minor": 0
      },
      "text/plain": [
       "HBox(children=(IntProgress(value=0, max=12), HTML(value='')))"
      ]
     },
     "metadata": {},
     "output_type": "display_data"
    },
    {
     "name": "stdout",
     "output_type": "stream",
     "text": [
      "num of vanilla samples is 1518\n",
      "(224, 224, 3)\n"
     ]
    }
   ],
   "source": [
    "x_train = []\n",
    "y_train = []\n",
    "for idx in tqdm(range(num_classes)):\n",
    "    vanila_data_path_by_class = vanila_data_path + '/' + str(idx) + '/'\n",
    "    files = os.listdir(vanila_data_path_by_class)\n",
    "    for file in files:\n",
    "        x_train.append(np.array(load_img(vanila_data_path_by_class + file)))\n",
    "        y_train.append(idx)\n",
    "        \n",
    "print('num of vanilla samples is ' + str(len(x_train)))\n",
    "\n",
    "print(x_train[0].shape)"
   ]
  },
  {
   "cell_type": "markdown",
   "metadata": {},
   "source": [
    "## Augmented dataset"
   ]
  },
  {
   "cell_type": "code",
   "execution_count": 47,
   "metadata": {},
   "outputs": [
    {
     "name": "stdout",
     "output_type": "stream",
     "text": [
      "blur\n"
     ]
    },
    {
     "data": {
      "application/vnd.jupyter.widget-view+json": {
       "model_id": "1a17da0e0a8643619dbdc223e13531c4",
       "version_major": 2,
       "version_minor": 0
      },
      "text/plain": [
       "HBox(children=(IntProgress(value=0, max=12), HTML(value='')))"
      ]
     },
     "metadata": {},
     "output_type": "display_data"
    },
    {
     "name": "stdout",
     "output_type": "stream",
     "text": [
      "rotation\n"
     ]
    },
    {
     "data": {
      "application/vnd.jupyter.widget-view+json": {
       "model_id": "57691e5feb6d4e999c59cd26b9705895",
       "version_major": 2,
       "version_minor": 0
      },
      "text/plain": [
       "HBox(children=(IntProgress(value=0, max=12), HTML(value='')))"
      ]
     },
     "metadata": {},
     "output_type": "display_data"
    },
    {
     "name": "stdout",
     "output_type": "stream",
     "text": [
      "mixup\n"
     ]
    },
    {
     "data": {
      "application/vnd.jupyter.widget-view+json": {
       "model_id": "31092309170344028b4905d2f4b7b90a",
       "version_major": 2,
       "version_minor": 0
      },
      "text/plain": [
       "HBox(children=(IntProgress(value=0, max=12), HTML(value='')))"
      ]
     },
     "metadata": {},
     "output_type": "display_data"
    }
   ],
   "source": [
    "for aug_type in aug_list:\n",
    "    print(aug_type)\n",
    "    aug_path_by_type = aug_data_path + aug_type + '/'\n",
    "    for idx in tqdm(range(num_classes)):\n",
    "        aug_data_path_by_class = aug_path_by_type + str(idx) + '/'\n",
    "        files = os.listdir(aug_data_path_by_class)\n",
    "        for file in files:\n",
    "            x_train.append(np.array(load_img(aug_data_path_by_class + file)))\n",
    "            y_train.append(idx)"
   ]
  },
  {
   "cell_type": "code",
   "execution_count": 48,
   "metadata": {},
   "outputs": [
    {
     "name": "stdout",
     "output_type": "stream",
     "text": [
      "num of samples after loaded augmented data is 4236\n"
     ]
    }
   ],
   "source": [
    "print('num of samples after loaded augmented data is ' + str(len(x_train)))"
   ]
  },
  {
   "cell_type": "markdown",
   "metadata": {},
   "source": [
    "# Load test data"
   ]
  },
  {
   "cell_type": "code",
   "execution_count": 49,
   "metadata": {},
   "outputs": [
    {
     "data": {
      "application/vnd.jupyter.widget-view+json": {
       "model_id": "64c86637bbce445783c93e7bfe8e054d",
       "version_major": 2,
       "version_minor": 0
      },
      "text/plain": [
       "HBox(children=(IntProgress(value=0, max=12), HTML(value='')))"
      ]
     },
     "metadata": {},
     "output_type": "display_data"
    },
    {
     "name": "stdout",
     "output_type": "stream",
     "text": [
      "num of test samples is 380\n"
     ]
    }
   ],
   "source": [
    "x_test = []\n",
    "y_test = []\n",
    "for idx in tqdm(range(num_classes)):\n",
    "    test_data_path_by_class = test_data_path + str(idx) + '/'\n",
    "    files = os.listdir(test_data_path_by_class)\n",
    "    for file in files:\n",
    "        x_test.append(np.array(load_img(test_data_path_by_class + file)))\n",
    "        y_test.append(idx)\n",
    "        \n",
    "print('num of test samples is ' + str(len(x_test)))"
   ]
  },
  {
   "cell_type": "markdown",
   "metadata": {},
   "source": [
    "# Define model"
   ]
  },
  {
   "cell_type": "code",
   "execution_count": 57,
   "metadata": {},
   "outputs": [
    {
     "name": "stdout",
     "output_type": "stream",
     "text": [
      "WARNING:tensorflow:From C:\\Users\\Natthawat\\Anaconda3\\lib\\site-packages\\keras\\backend\\tensorflow_backend.py:1340: calling reduce_mean (from tensorflow.python.ops.math_ops) with keep_dims is deprecated and will be removed in a future version.\n",
      "Instructions for updating:\n",
      "keep_dims is deprecated, use keepdims instead\n",
      "WARNING:tensorflow:From C:\\Users\\Natthawat\\Anaconda3\\lib\\site-packages\\keras\\backend\\tensorflow_backend.py:1204: calling reduce_max (from tensorflow.python.ops.math_ops) with keep_dims is deprecated and will be removed in a future version.\n",
      "Instructions for updating:\n",
      "keep_dims is deprecated, use keepdims instead\n"
     ]
    }
   ],
   "source": [
    "base_model = ResNet50(weights='imagenet')\n",
    "x = base_model.output\n",
    "new_output = Dense(num_classes, activation='softmax')(x)\n",
    "model = Model(inputs=base_model.input, outputs=new_output)\n",
    "\n",
    "# Set trainable layers in model\n",
    "for layer in base_model.layers:\n",
    "    layer.trainable = False\n",
    "\n",
    "# Compile model\n",
    "model.compile(loss='sparse_categorical_crossentropy',\n",
    "              optimizer=Adam(lr=0.0001),\n",
    "              metrics=['acc'])"
   ]
  },
  {
   "cell_type": "markdown",
   "metadata": {},
   "source": [
    "# Train"
   ]
  },
  {
   "cell_type": "code",
   "execution_count": null,
   "metadata": {},
   "outputs": [
    {
     "name": "stdout",
     "output_type": "stream",
     "text": [
      "Train on 1518 samples, validate on 380 samples\n",
      "Epoch 1/10\n",
      "1504/1518 [============================>.] - ETA: 4:29 - loss: 2.4845 - acc: 0.093 - ETA: 2:16 - loss: 2.4852 - acc: 0.093 - ETA: 1:32 - loss: 2.4846 - acc: 0.093 - ETA: 1:09 - loss: 2.4846 - acc: 0.093 - ETA: 56s - loss: 2.4847 - acc: 0.087 - ETA: 47s - loss: 2.4849 - acc: 0.08 - ETA: 40s - loss: 2.4849 - acc: 0.07 - ETA: 35s - loss: 2.4850 - acc: 0.07 - ETA: 31s - loss: 2.4850 - acc: 0.07 - ETA: 28s - loss: 2.4850 - acc: 0.08 - ETA: 25s - loss: 2.4849 - acc: 0.07 - ETA: 23s - loss: 2.4847 - acc: 0.08 - ETA: 21s - loss: 2.4847 - acc: 0.08 - ETA: 20s - loss: 2.4848 - acc: 0.08 - ETA: 18s - loss: 2.4847 - acc: 0.08 - ETA: 17s - loss: 2.4847 - acc: 0.08 - ETA: 16s - loss: 2.4847 - acc: 0.08 - ETA: 15s - loss: 2.4847 - acc: 0.08 - ETA: 14s - loss: 2.4847 - acc: 0.08 - ETA: 13s - loss: 2.4847 - acc: 0.08 - ETA: 12s - loss: 2.4847 - acc: 0.09 - ETA: 11s - loss: 2.4846 - acc: 0.09 - ETA: 10s - loss: 2.4846 - acc: 0.09 - ETA: 10s - loss: 2.4847 - acc: 0.10 - ETA: 9s - loss: 2.4847 - acc: 0.1013 - ETA: 9s - loss: 2.4848 - acc: 0.098 - ETA: 8s - loss: 2.4848 - acc: 0.099 - ETA: 7s - loss: 2.4848 - acc: 0.099 - ETA: 7s - loss: 2.4848 - acc: 0.101 - ETA: 6s - loss: 2.4848 - acc: 0.103 - ETA: 6s - loss: 2.4848 - acc: 0.100 - ETA: 5s - loss: 2.4848 - acc: 0.102 - ETA: 5s - loss: 2.4848 - acc: 0.100 - ETA: 4s - loss: 2.4848 - acc: 0.103 - ETA: 4s - loss: 2.4848 - acc: 0.103 - ETA: 4s - loss: 2.4847 - acc: 0.103 - ETA: 3s - loss: 2.4847 - acc: 0.106 - ETA: 3s - loss: 2.4846 - acc: 0.106 - ETA: 2s - loss: 2.4846 - acc: 0.105 - ETA: 2s - loss: 2.4846 - acc: 0.104 - ETA: 2s - loss: 2.4846 - acc: 0.103 - ETA: 1s - loss: 2.4846 - acc: 0.104 - ETA: 1s - loss: 2.4846 - acc: 0.104 - ETA: 1s - loss: 2.4845 - acc: 0.105 - ETA: 0s - loss: 2.4845 - acc: 0.109 - ETA: 0s - loss: 2.4845 - acc: 0.110 - ETA: 0s - loss: 2.4845 - acc: 0.1097Epoch 00001: acc improved from -inf to 0.10870, saving model to ./keras.model\n"
     ]
    }
   ],
   "source": [
    "model_checkpoint = ModelCheckpoint('./keras.model', save_best_only=True, monitor='acc', mode = 'max', verbose=1)\n",
    "epochs = 10\n",
    "batch_size = 32\n",
    "\n",
    "history = model.fit(np.array(x_train), np.array(y_train),\n",
    "                    validation_data=[np.array(x_test), np.array(y_test)], \n",
    "                    epochs=epochs,\n",
    "                    batch_size=batch_size,\n",
    "                    callbacks=[model_checkpoint],\n",
    "                    shuffle=True,\n",
    "                    verbose=1)"
   ]
  },
  {
   "cell_type": "code",
   "execution_count": 66,
   "metadata": {},
   "outputs": [
    {
     "data": {
      "text/plain": [
       "(1518, 224, 224, 3)"
      ]
     },
     "execution_count": 66,
     "metadata": {},
     "output_type": "execute_result"
    }
   ],
   "source": []
  },
  {
   "cell_type": "code",
   "execution_count": null,
   "metadata": {},
   "outputs": [],
   "source": []
  }
 ],
 "metadata": {
  "kernelspec": {
   "display_name": "Python 3",
   "language": "python",
   "name": "python3"
  },
  "language_info": {
   "codemirror_mode": {
    "name": "ipython",
    "version": 3
   },
   "file_extension": ".py",
   "mimetype": "text/x-python",
   "name": "python",
   "nbconvert_exporter": "python",
   "pygments_lexer": "ipython3",
   "version": "3.6.5"
  }
 },
 "nbformat": 4,
 "nbformat_minor": 2
}
